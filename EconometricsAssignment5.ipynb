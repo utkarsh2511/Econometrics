{
  "nbformat": 4,
  "nbformat_minor": 0,
  "metadata": {
    "colab": {
      "provenance": []
    },
    "kernelspec": {
      "name": "python3",
      "display_name": "Python 3"
    },
    "language_info": {
      "name": "python"
    }
  },
  "cells": [
    {
      "cell_type": "code",
      "execution_count": 9,
      "metadata": {
        "colab": {
          "base_uri": "https://localhost:8080/"
        },
        "id": "i_Jgoplvy9w3",
        "outputId": "7f7321bd-1a01-4847-c513-0a047f899956"
      },
      "outputs": [
        {
          "output_type": "stream",
          "name": "stdout",
          "text": [
            "Requirement already satisfied: yfinance in /usr/local/lib/python3.10/dist-packages (0.2.37)\n",
            "Requirement already satisfied: pandas_datareader in /usr/local/lib/python3.10/dist-packages (0.10.0)\n",
            "Requirement already satisfied: pandas>=1.3.0 in /usr/local/lib/python3.10/dist-packages (from yfinance) (1.5.3)\n",
            "Requirement already satisfied: numpy>=1.16.5 in /usr/local/lib/python3.10/dist-packages (from yfinance) (1.25.2)\n",
            "Requirement already satisfied: requests>=2.31 in /usr/local/lib/python3.10/dist-packages (from yfinance) (2.31.0)\n",
            "Requirement already satisfied: multitasking>=0.0.7 in /usr/local/lib/python3.10/dist-packages (from yfinance) (0.0.11)\n",
            "Requirement already satisfied: lxml>=4.9.1 in /usr/local/lib/python3.10/dist-packages (from yfinance) (4.9.4)\n",
            "Requirement already satisfied: appdirs>=1.4.4 in /usr/local/lib/python3.10/dist-packages (from yfinance) (1.4.4)\n",
            "Requirement already satisfied: pytz>=2022.5 in /usr/local/lib/python3.10/dist-packages (from yfinance) (2023.4)\n",
            "Requirement already satisfied: frozendict>=2.3.4 in /usr/local/lib/python3.10/dist-packages (from yfinance) (2.4.0)\n",
            "Requirement already satisfied: peewee>=3.16.2 in /usr/local/lib/python3.10/dist-packages (from yfinance) (3.17.1)\n",
            "Requirement already satisfied: beautifulsoup4>=4.11.1 in /usr/local/lib/python3.10/dist-packages (from yfinance) (4.12.3)\n",
            "Requirement already satisfied: html5lib>=1.1 in /usr/local/lib/python3.10/dist-packages (from yfinance) (1.1)\n",
            "Requirement already satisfied: soupsieve>1.2 in /usr/local/lib/python3.10/dist-packages (from beautifulsoup4>=4.11.1->yfinance) (2.5)\n",
            "Requirement already satisfied: six>=1.9 in /usr/local/lib/python3.10/dist-packages (from html5lib>=1.1->yfinance) (1.16.0)\n",
            "Requirement already satisfied: webencodings in /usr/local/lib/python3.10/dist-packages (from html5lib>=1.1->yfinance) (0.5.1)\n",
            "Requirement already satisfied: python-dateutil>=2.8.1 in /usr/local/lib/python3.10/dist-packages (from pandas>=1.3.0->yfinance) (2.8.2)\n",
            "Requirement already satisfied: charset-normalizer<4,>=2 in /usr/local/lib/python3.10/dist-packages (from requests>=2.31->yfinance) (3.3.2)\n",
            "Requirement already satisfied: idna<4,>=2.5 in /usr/local/lib/python3.10/dist-packages (from requests>=2.31->yfinance) (3.6)\n",
            "Requirement already satisfied: urllib3<3,>=1.21.1 in /usr/local/lib/python3.10/dist-packages (from requests>=2.31->yfinance) (2.0.7)\n",
            "Requirement already satisfied: certifi>=2017.4.17 in /usr/local/lib/python3.10/dist-packages (from requests>=2.31->yfinance) (2024.2.2)\n"
          ]
        }
      ],
      "source": [
        "!pip install yfinance pandas_datareader"
      ]
    },
    {
      "cell_type": "markdown",
      "source": [
        "**Pick two stocks (X1, X2) that are in the S&P 500 and the S&P 500 (Y)**"
      ],
      "metadata": {
        "id": "X07TPj3gzB-A"
      }
    },
    {
      "cell_type": "markdown",
      "source": [
        "\n",
        "    1) Build 4 models :  Y by itself, Y vs X1, Y vs X2 and Y vs X1 and X2?\n",
        "    2) Which model has the lowest some of residuals squared?\n",
        "    3) If you include statistical significance which model is best?\n"
      ],
      "metadata": {
        "id": "lZihefDYzHT_"
      }
    },
    {
      "cell_type": "markdown",
      "source": [
        "**1) Build 4 models :  Y by itself, Y vs X1, Y vs X2 and Y vs X1 and X2?**"
      ],
      "metadata": {
        "id": "wQx3IPvc-G8Q"
      }
    },
    {
      "cell_type": "code",
      "source": [
        "import yfinance as yf\n",
        "from pandas_datareader import data as pdr\n",
        "import pandas as pd\n",
        "from sklearn.linear_model import LinearRegression\n",
        "import numpy as np\n",
        "import statsmodels.api as sm\n",
        "# Override the default pandas_datareader method to use yfinance\n",
        "yf.pdr_override()\n",
        "\n",
        "# Define the ticker symbol for the S&P 500 Index\n",
        "sAndp_ticker = \"^GSPC\"\n",
        "Nvidia_ticker = \"NVDA\"\n",
        "Microsoft_ticker = \"MSFT\"\n",
        "\n",
        "# Define the period for which you want the data. Here, we want data from the past 6 months.\n",
        "start_date = \"2023-09-01\"  # Adjust this date based on today's date\n",
        "end_date = \"2024-03-01\"    # Adjust this date based on today's date\n",
        "\n",
        "# Fetch the historical data for the S&P 500\n",
        "sp500_data = pdr.get_data_yahoo(sAndp_ticker, start=start_date, end=end_date)\n",
        "Nvidia_data = pdr.get_data_yahoo(Nvidia_ticker, start=start_date, end=end_date)\n",
        "Microsoft_data = pdr.get_data_yahoo(Microsoft_ticker, start=start_date, end=end_date)\n",
        "sp500_close_prices= sp500_data['Close']\n",
        "Nvidia_close_prices = Nvidia_data['Close']\n",
        "Microsoft_close_prices = Microsoft_data['Close']\n",
        "df_merged = pd.merge(Microsoft_close_prices, Nvidia_close_prices, on='Date')\n",
        "df_merged = pd.merge(df_merged, sp500_close_prices, on='Date')\n",
        "df = df_merged.rename(columns={'Close_x': 'Microsoft', 'Close_y': 'Nvidia', 'Close': 'sp500'})\n",
        "df.head()"
      ],
      "metadata": {
        "colab": {
          "base_uri": "https://localhost:8080/",
          "height": 289
        },
        "id": "ZwQCECr7zOOg",
        "outputId": "19687e6a-e533-4da1-ab4a-5c0926b756aa"
      },
      "execution_count": 10,
      "outputs": [
        {
          "output_type": "stream",
          "name": "stderr",
          "text": [
            "[*********************100%%**********************]  1 of 1 completed\n",
            "[*********************100%%**********************]  1 of 1 completed\n",
            "[*********************100%%**********************]  1 of 1 completed\n"
          ]
        },
        {
          "output_type": "execute_result",
          "data": {
            "text/plain": [
              "             Microsoft      Nvidia        sp500\n",
              "Date                                           \n",
              "2023-09-01  328.660004  485.089996  4515.770020\n",
              "2023-09-05  333.549988  485.480011  4496.830078\n",
              "2023-09-06  332.880005  470.609985  4465.479980\n",
              "2023-09-07  329.910004  462.410004  4451.140137\n",
              "2023-09-08  334.269989  455.720001  4457.490234"
            ],
            "text/html": [
              "\n",
              "  <div id=\"df-80709be6-2152-443f-a663-9c981e5a908c\" class=\"colab-df-container\">\n",
              "    <div>\n",
              "<style scoped>\n",
              "    .dataframe tbody tr th:only-of-type {\n",
              "        vertical-align: middle;\n",
              "    }\n",
              "\n",
              "    .dataframe tbody tr th {\n",
              "        vertical-align: top;\n",
              "    }\n",
              "\n",
              "    .dataframe thead th {\n",
              "        text-align: right;\n",
              "    }\n",
              "</style>\n",
              "<table border=\"1\" class=\"dataframe\">\n",
              "  <thead>\n",
              "    <tr style=\"text-align: right;\">\n",
              "      <th></th>\n",
              "      <th>Microsoft</th>\n",
              "      <th>Nvidia</th>\n",
              "      <th>sp500</th>\n",
              "    </tr>\n",
              "    <tr>\n",
              "      <th>Date</th>\n",
              "      <th></th>\n",
              "      <th></th>\n",
              "      <th></th>\n",
              "    </tr>\n",
              "  </thead>\n",
              "  <tbody>\n",
              "    <tr>\n",
              "      <th>2023-09-01</th>\n",
              "      <td>328.660004</td>\n",
              "      <td>485.089996</td>\n",
              "      <td>4515.770020</td>\n",
              "    </tr>\n",
              "    <tr>\n",
              "      <th>2023-09-05</th>\n",
              "      <td>333.549988</td>\n",
              "      <td>485.480011</td>\n",
              "      <td>4496.830078</td>\n",
              "    </tr>\n",
              "    <tr>\n",
              "      <th>2023-09-06</th>\n",
              "      <td>332.880005</td>\n",
              "      <td>470.609985</td>\n",
              "      <td>4465.479980</td>\n",
              "    </tr>\n",
              "    <tr>\n",
              "      <th>2023-09-07</th>\n",
              "      <td>329.910004</td>\n",
              "      <td>462.410004</td>\n",
              "      <td>4451.140137</td>\n",
              "    </tr>\n",
              "    <tr>\n",
              "      <th>2023-09-08</th>\n",
              "      <td>334.269989</td>\n",
              "      <td>455.720001</td>\n",
              "      <td>4457.490234</td>\n",
              "    </tr>\n",
              "  </tbody>\n",
              "</table>\n",
              "</div>\n",
              "    <div class=\"colab-df-buttons\">\n",
              "\n",
              "  <div class=\"colab-df-container\">\n",
              "    <button class=\"colab-df-convert\" onclick=\"convertToInteractive('df-80709be6-2152-443f-a663-9c981e5a908c')\"\n",
              "            title=\"Convert this dataframe to an interactive table.\"\n",
              "            style=\"display:none;\">\n",
              "\n",
              "  <svg xmlns=\"http://www.w3.org/2000/svg\" height=\"24px\" viewBox=\"0 -960 960 960\">\n",
              "    <path d=\"M120-120v-720h720v720H120Zm60-500h600v-160H180v160Zm220 220h160v-160H400v160Zm0 220h160v-160H400v160ZM180-400h160v-160H180v160Zm440 0h160v-160H620v160ZM180-180h160v-160H180v160Zm440 0h160v-160H620v160Z\"/>\n",
              "  </svg>\n",
              "    </button>\n",
              "\n",
              "  <style>\n",
              "    .colab-df-container {\n",
              "      display:flex;\n",
              "      gap: 12px;\n",
              "    }\n",
              "\n",
              "    .colab-df-convert {\n",
              "      background-color: #E8F0FE;\n",
              "      border: none;\n",
              "      border-radius: 50%;\n",
              "      cursor: pointer;\n",
              "      display: none;\n",
              "      fill: #1967D2;\n",
              "      height: 32px;\n",
              "      padding: 0 0 0 0;\n",
              "      width: 32px;\n",
              "    }\n",
              "\n",
              "    .colab-df-convert:hover {\n",
              "      background-color: #E2EBFA;\n",
              "      box-shadow: 0px 1px 2px rgba(60, 64, 67, 0.3), 0px 1px 3px 1px rgba(60, 64, 67, 0.15);\n",
              "      fill: #174EA6;\n",
              "    }\n",
              "\n",
              "    .colab-df-buttons div {\n",
              "      margin-bottom: 4px;\n",
              "    }\n",
              "\n",
              "    [theme=dark] .colab-df-convert {\n",
              "      background-color: #3B4455;\n",
              "      fill: #D2E3FC;\n",
              "    }\n",
              "\n",
              "    [theme=dark] .colab-df-convert:hover {\n",
              "      background-color: #434B5C;\n",
              "      box-shadow: 0px 1px 3px 1px rgba(0, 0, 0, 0.15);\n",
              "      filter: drop-shadow(0px 1px 2px rgba(0, 0, 0, 0.3));\n",
              "      fill: #FFFFFF;\n",
              "    }\n",
              "  </style>\n",
              "\n",
              "    <script>\n",
              "      const buttonEl =\n",
              "        document.querySelector('#df-80709be6-2152-443f-a663-9c981e5a908c button.colab-df-convert');\n",
              "      buttonEl.style.display =\n",
              "        google.colab.kernel.accessAllowed ? 'block' : 'none';\n",
              "\n",
              "      async function convertToInteractive(key) {\n",
              "        const element = document.querySelector('#df-80709be6-2152-443f-a663-9c981e5a908c');\n",
              "        const dataTable =\n",
              "          await google.colab.kernel.invokeFunction('convertToInteractive',\n",
              "                                                    [key], {});\n",
              "        if (!dataTable) return;\n",
              "\n",
              "        const docLinkHtml = 'Like what you see? Visit the ' +\n",
              "          '<a target=\"_blank\" href=https://colab.research.google.com/notebooks/data_table.ipynb>data table notebook</a>'\n",
              "          + ' to learn more about interactive tables.';\n",
              "        element.innerHTML = '';\n",
              "        dataTable['output_type'] = 'display_data';\n",
              "        await google.colab.output.renderOutput(dataTable, element);\n",
              "        const docLink = document.createElement('div');\n",
              "        docLink.innerHTML = docLinkHtml;\n",
              "        element.appendChild(docLink);\n",
              "      }\n",
              "    </script>\n",
              "  </div>\n",
              "\n",
              "\n",
              "<div id=\"df-276303d7-cc15-4182-aadb-65111ac6a9e2\">\n",
              "  <button class=\"colab-df-quickchart\" onclick=\"quickchart('df-276303d7-cc15-4182-aadb-65111ac6a9e2')\"\n",
              "            title=\"Suggest charts\"\n",
              "            style=\"display:none;\">\n",
              "\n",
              "<svg xmlns=\"http://www.w3.org/2000/svg\" height=\"24px\"viewBox=\"0 0 24 24\"\n",
              "     width=\"24px\">\n",
              "    <g>\n",
              "        <path d=\"M19 3H5c-1.1 0-2 .9-2 2v14c0 1.1.9 2 2 2h14c1.1 0 2-.9 2-2V5c0-1.1-.9-2-2-2zM9 17H7v-7h2v7zm4 0h-2V7h2v10zm4 0h-2v-4h2v4z\"/>\n",
              "    </g>\n",
              "</svg>\n",
              "  </button>\n",
              "\n",
              "<style>\n",
              "  .colab-df-quickchart {\n",
              "      --bg-color: #E8F0FE;\n",
              "      --fill-color: #1967D2;\n",
              "      --hover-bg-color: #E2EBFA;\n",
              "      --hover-fill-color: #174EA6;\n",
              "      --disabled-fill-color: #AAA;\n",
              "      --disabled-bg-color: #DDD;\n",
              "  }\n",
              "\n",
              "  [theme=dark] .colab-df-quickchart {\n",
              "      --bg-color: #3B4455;\n",
              "      --fill-color: #D2E3FC;\n",
              "      --hover-bg-color: #434B5C;\n",
              "      --hover-fill-color: #FFFFFF;\n",
              "      --disabled-bg-color: #3B4455;\n",
              "      --disabled-fill-color: #666;\n",
              "  }\n",
              "\n",
              "  .colab-df-quickchart {\n",
              "    background-color: var(--bg-color);\n",
              "    border: none;\n",
              "    border-radius: 50%;\n",
              "    cursor: pointer;\n",
              "    display: none;\n",
              "    fill: var(--fill-color);\n",
              "    height: 32px;\n",
              "    padding: 0;\n",
              "    width: 32px;\n",
              "  }\n",
              "\n",
              "  .colab-df-quickchart:hover {\n",
              "    background-color: var(--hover-bg-color);\n",
              "    box-shadow: 0 1px 2px rgba(60, 64, 67, 0.3), 0 1px 3px 1px rgba(60, 64, 67, 0.15);\n",
              "    fill: var(--button-hover-fill-color);\n",
              "  }\n",
              "\n",
              "  .colab-df-quickchart-complete:disabled,\n",
              "  .colab-df-quickchart-complete:disabled:hover {\n",
              "    background-color: var(--disabled-bg-color);\n",
              "    fill: var(--disabled-fill-color);\n",
              "    box-shadow: none;\n",
              "  }\n",
              "\n",
              "  .colab-df-spinner {\n",
              "    border: 2px solid var(--fill-color);\n",
              "    border-color: transparent;\n",
              "    border-bottom-color: var(--fill-color);\n",
              "    animation:\n",
              "      spin 1s steps(1) infinite;\n",
              "  }\n",
              "\n",
              "  @keyframes spin {\n",
              "    0% {\n",
              "      border-color: transparent;\n",
              "      border-bottom-color: var(--fill-color);\n",
              "      border-left-color: var(--fill-color);\n",
              "    }\n",
              "    20% {\n",
              "      border-color: transparent;\n",
              "      border-left-color: var(--fill-color);\n",
              "      border-top-color: var(--fill-color);\n",
              "    }\n",
              "    30% {\n",
              "      border-color: transparent;\n",
              "      border-left-color: var(--fill-color);\n",
              "      border-top-color: var(--fill-color);\n",
              "      border-right-color: var(--fill-color);\n",
              "    }\n",
              "    40% {\n",
              "      border-color: transparent;\n",
              "      border-right-color: var(--fill-color);\n",
              "      border-top-color: var(--fill-color);\n",
              "    }\n",
              "    60% {\n",
              "      border-color: transparent;\n",
              "      border-right-color: var(--fill-color);\n",
              "    }\n",
              "    80% {\n",
              "      border-color: transparent;\n",
              "      border-right-color: var(--fill-color);\n",
              "      border-bottom-color: var(--fill-color);\n",
              "    }\n",
              "    90% {\n",
              "      border-color: transparent;\n",
              "      border-bottom-color: var(--fill-color);\n",
              "    }\n",
              "  }\n",
              "</style>\n",
              "\n",
              "  <script>\n",
              "    async function quickchart(key) {\n",
              "      const quickchartButtonEl =\n",
              "        document.querySelector('#' + key + ' button');\n",
              "      quickchartButtonEl.disabled = true;  // To prevent multiple clicks.\n",
              "      quickchartButtonEl.classList.add('colab-df-spinner');\n",
              "      try {\n",
              "        const charts = await google.colab.kernel.invokeFunction(\n",
              "            'suggestCharts', [key], {});\n",
              "      } catch (error) {\n",
              "        console.error('Error during call to suggestCharts:', error);\n",
              "      }\n",
              "      quickchartButtonEl.classList.remove('colab-df-spinner');\n",
              "      quickchartButtonEl.classList.add('colab-df-quickchart-complete');\n",
              "    }\n",
              "    (() => {\n",
              "      let quickchartButtonEl =\n",
              "        document.querySelector('#df-276303d7-cc15-4182-aadb-65111ac6a9e2 button');\n",
              "      quickchartButtonEl.style.display =\n",
              "        google.colab.kernel.accessAllowed ? 'block' : 'none';\n",
              "    })();\n",
              "  </script>\n",
              "</div>\n",
              "    </div>\n",
              "  </div>\n"
            ],
            "application/vnd.google.colaboratory.intrinsic+json": {
              "type": "dataframe",
              "variable_name": "df",
              "summary": "{\n  \"name\": \"df\",\n  \"rows\": 124,\n  \"fields\": [\n    {\n      \"column\": \"Date\",\n      \"properties\": {\n        \"dtype\": \"date\",\n        \"min\": \"2023-09-01 00:00:00\",\n        \"max\": \"2024-02-29 00:00:00\",\n        \"num_unique_values\": 124,\n        \"samples\": [\n          \"2023-09-28 00:00:00\",\n          \"2023-11-01 00:00:00\",\n          \"2023-10-24 00:00:00\"\n        ],\n        \"semantic_type\": \"\",\n        \"description\": \"\"\n      }\n    },\n    {\n      \"column\": \"Microsoft\",\n      \"properties\": {\n        \"dtype\": \"number\",\n        \"std\": 31.316834536091186,\n        \"min\": 312.1400146484375,\n        \"max\": 420.54998779296875,\n        \"num_unique_values\": 123,\n        \"samples\": [\n          313.6400146484375,\n          356.5299987792969,\n          363.20001220703125\n        ],\n        \"semantic_type\": \"\",\n        \"description\": \"\"\n      }\n    },\n    {\n      \"column\": \"Nvidia\",\n      \"properties\": {\n        \"dtype\": \"number\",\n        \"std\": 104.91277469966704,\n        \"min\": 403.260009765625,\n        \"max\": 791.1199951171875,\n        \"num_unique_values\": 123,\n        \"samples\": [\n          430.8900146484375,\n          457.510009765625,\n          465.739990234375\n        ],\n        \"semantic_type\": \"\",\n        \"description\": \"\"\n      }\n    },\n    {\n      \"column\": \"sp500\",\n      \"properties\": {\n        \"dtype\": \"number\",\n        \"std\": 266.2953424195809,\n        \"min\": 4117.3701171875,\n        \"max\": 5096.27001953125,\n        \"num_unique_values\": 124,\n        \"samples\": [\n          4299.7001953125,\n          4237.85986328125,\n          4247.68017578125\n        ],\n        \"semantic_type\": \"\",\n        \"description\": \"\"\n      }\n    }\n  ]\n}"
            }
          },
          "metadata": {},
          "execution_count": 10
        }
      ]
    },
    {
      "cell_type": "code",
      "source": [
        "len(df)"
      ],
      "metadata": {
        "colab": {
          "base_uri": "https://localhost:8080/"
        },
        "id": "NPxO3hN1_nJi",
        "outputId": "d6161eab-7c21-441e-f444-cd519b5d709b"
      },
      "execution_count": 11,
      "outputs": [
        {
          "output_type": "execute_result",
          "data": {
            "text/plain": [
              "124"
            ]
          },
          "metadata": {},
          "execution_count": 11
        }
      ]
    },
    {
      "cell_type": "markdown",
      "source": [
        "**Model 1**"
      ],
      "metadata": {
        "id": "IqhH0KOw57F2"
      }
    },
    {
      "cell_type": "code",
      "source": [
        "Y = df['sp500'].values\n",
        "predictions = df['sp500'].mean()\n",
        "# Assuming `predictions` are the predicted Y values from the model and `Y_test` are the actual Y values\n",
        "residuals = Y - predictions # broadcasting\n",
        "\n",
        "# Squaring the residuals and summing them up to get the Sum of Squared Residuals\n",
        "SSR1 = np.sum(residuals ** 2)\n",
        "print(\"Sum of Squared Residuals (SSR) for model 1:\", SSR1)"
      ],
      "metadata": {
        "colab": {
          "base_uri": "https://localhost:8080/"
        },
        "id": "tBJqSofQ59oC",
        "outputId": "57b0e2f3-fb2a-4603-f68e-f4de0af93afc"
      },
      "execution_count": 12,
      "outputs": [
        {
          "output_type": "stream",
          "name": "stdout",
          "text": [
            "Sum of Squared Residuals (SSR) for model 1: 8722324.755506506\n"
          ]
        }
      ]
    },
    {
      "cell_type": "markdown",
      "source": [
        "**Model 2**"
      ],
      "metadata": {
        "id": "GEWRTCR35H1X"
      }
    },
    {
      "cell_type": "code",
      "source": [
        "X = df['Microsoft'].values.reshape(-1, 1)  # Reshaping is required as scikit-learn expects a 2D array for the independent variables\n",
        "Y = df['sp500'].values\n",
        "\n",
        "model = LinearRegression()\n",
        "\n",
        "# Train the model\n",
        "model.fit(X, Y)\n",
        "predictions = model.predict(X)\n",
        "\n",
        "print(\"Coefficient:\", model.coef_)\n",
        "print(\"Intercept:\", model.intercept_)\n",
        "\n",
        "residuals = Y - predictions\n",
        "\n",
        "SSR2 = np.sum(residuals ** 2)\n",
        "\n",
        "print(\"Sum of Squared Residuals (SSR2):\", SSR2)"
      ],
      "metadata": {
        "id": "i87mUmv23HK3",
        "colab": {
          "base_uri": "https://localhost:8080/"
        },
        "outputId": "e0fcfc2e-1040-48bc-bee9-569c02b26a5d"
      },
      "execution_count": 13,
      "outputs": [
        {
          "output_type": "stream",
          "name": "stdout",
          "text": [
            "Coefficient: [7.7709895]\n",
            "Intercept: 1762.5587030278057\n",
            "Sum of Squared Residuals (SSR2): 1437594.5608485627\n"
          ]
        }
      ]
    },
    {
      "cell_type": "markdown",
      "source": [
        "**Model 3**"
      ],
      "metadata": {
        "id": "gap44-KS4oug"
      }
    },
    {
      "cell_type": "code",
      "source": [
        "X = df['Nvidia'].values.reshape(-1, 1)\n",
        "Y = df['sp500'].values\n",
        "\n",
        "model = LinearRegression()\n",
        "\n",
        "# Train the model\n",
        "model.fit(X, Y)\n",
        "predictions = model.predict(X)\n",
        "print(\"Coefficient:\", model.coef_)\n",
        "print(\"Intercept:\", model.intercept_)\n",
        "\n",
        "residuals = Y - predictions\n",
        "\n",
        "# Squaring the residuals and summing them up to get the Sum of Squared Residuals\n",
        "SSR3 = np.sum(residuals ** 2)\n",
        "\n",
        "print(\"Sum of Squared Residuals (SSR3):\", SSR3)"
      ],
      "metadata": {
        "id": "dRfeDHnx4k_x",
        "colab": {
          "base_uri": "https://localhost:8080/"
        },
        "outputId": "2f85ef4c-6d2d-454a-99a8-d92fc2d4dae0"
      },
      "execution_count": 14,
      "outputs": [
        {
          "output_type": "stream",
          "name": "stdout",
          "text": [
            "Coefficient: [2.26886685]\n",
            "Intercept: 3423.5808388150667\n",
            "Sum of Squared Residuals (SSR3): 1753173.723704831\n"
          ]
        }
      ]
    },
    {
      "cell_type": "markdown",
      "source": [
        "**Model 4**"
      ],
      "metadata": {
        "id": "q7WPCn7h5LgQ"
      }
    },
    {
      "cell_type": "code",
      "source": [
        "X = df[['Microsoft', 'Nvidia']].values# Reshaping is required as scikit-learn expects a 2D array for the independent variables\n",
        "Y = df['sp500'].values\n",
        "\n",
        "model = LinearRegression()\n",
        "\n",
        "# Train the model\n",
        "model.fit(X, Y)\n",
        "predictions = model.predict(X)\n",
        "\n",
        "print(\"Coefficient:\", model.coef_)\n",
        "print(\"Intercept:\", model.intercept_)\n",
        "\n",
        "residuals = Y - predictions\n",
        "\n",
        "SSR4 = np.sum(residuals ** 2)\n",
        "\n",
        "print(\"Sum of Squared Residuals (SSR4):\", SSR4)"
      ],
      "metadata": {
        "colab": {
          "base_uri": "https://localhost:8080/"
        },
        "id": "JxnArnOD0UR3",
        "outputId": "1529d76b-be97-4c52-c633-be2558fb780b"
      },
      "execution_count": 15,
      "outputs": [
        {
          "output_type": "stream",
          "name": "stdout",
          "text": [
            "Coefficient: [4.71223841 1.08317211]\n",
            "Intercept: 2317.6397162223043\n",
            "Sum of Squared Residuals (SSR4): 977829.3796783305\n"
          ]
        }
      ]
    },
    {
      "cell_type": "markdown",
      "source": [
        "**2. Which model has the lowest some of residuals squared?**"
      ],
      "metadata": {
        "id": "ovKTcZZ_0znN"
      }
    },
    {
      "cell_type": "markdown",
      "source": [
        "-> Model 4, where we use both microsoft and nvidia as independent variables to predict s&p 500 index value with linear regression has lowest residuals squared"
      ],
      "metadata": {
        "id": "SwX2wYCp00yg"
      }
    },
    {
      "cell_type": "markdown",
      "source": [
        "**3. If you include statistical significance which model is best?**"
      ],
      "metadata": {
        "id": "CtuJ72BU1MNh"
      }
    },
    {
      "cell_type": "markdown",
      "source": [
        "Model 4 (with both predictors) is clearly better than model 1(no model). Model 2(with microsoft only predictor) is better than model 3(with nvidia only predictor) as it has less sum of squared residuals . Let us check if model 4 is statistically significantly better than model 2."
      ],
      "metadata": {
        "id": "788M37rD4f0Y"
      }
    },
    {
      "cell_type": "markdown",
      "source": [
        "\n",
        "\n",
        "We can also compare Model 4 with model 2 (with microsoft only) (which has less sum of squared error than model 3 with nvidia only), using F-score\n",
        "\n",
        "F score = ((RSSreduced - RSSfull)/p)/(RSSfull/(n-k-1))\n",
        "\n",
        "where p = difference between number of predictors,\n",
        "n = total number of observations,\n",
        "k = number of predictors in full model\n",
        "\n"
      ],
      "metadata": {
        "id": "4fFIqhjkAHSU"
      }
    },
    {
      "cell_type": "code",
      "source": [
        "# in our case\n",
        "RSSred = 1437594.5608485627\n",
        "RSSfull = 977829.3796783305\n",
        "p = 1\n",
        "k = 2\n",
        "n = len(df)\n",
        "\n",
        "Fobs = ((RSSred - RSSfull)/p)/(RSSfull/(n-k-1))"
      ],
      "metadata": {
        "id": "sVHoWZYqAGPa"
      },
      "execution_count": 16,
      "outputs": []
    },
    {
      "cell_type": "code",
      "source": [
        "print(Fobs)"
      ],
      "metadata": {
        "id": "-QgsOKjN5Om9",
        "colab": {
          "base_uri": "https://localhost:8080/"
        },
        "outputId": "c3f2a6cc-c42a-45cd-807a-02860ee57c8b"
      },
      "execution_count": 17,
      "outputs": [
        {
          "output_type": "stream",
          "name": "stdout",
          "text": [
            "56.89293866369491\n"
          ]
        }
      ]
    },
    {
      "cell_type": "code",
      "source": [
        "from scipy.stats import f\n",
        "\n",
        "# Degrees of freedom\n",
        "df1 = p\n",
        "df2 = n - k - 1\n",
        "\n",
        "# Significance level\n",
        "alpha = 0.05\n",
        "\n",
        "# Calculate critical F-value\n",
        "f_critical = f.ppf(1 - alpha, df1, df2)\n",
        "\n",
        "print(f\"Critical F-value: {f_critical}\")"
      ],
      "metadata": {
        "colab": {
          "base_uri": "https://localhost:8080/"
        },
        "id": "xGv47N0jDIp1",
        "outputId": "c6ccccb1-df6f-4b3f-ea75-6442973c1477"
      },
      "execution_count": 18,
      "outputs": [
        {
          "output_type": "stream",
          "name": "stdout",
          "text": [
            "Critical F-value: 3.919464555329504\n"
          ]
        }
      ]
    },
    {
      "cell_type": "markdown",
      "source": [
        "As we can see, observed F statistic way greater than Fcritical, hence the two predictor model 4 is statistically significantly better than one predictor model 2 and in turn better than all other models. Hence model 4 with both the predictors microsoft and nvidia is the best among these models."
      ],
      "metadata": {
        "id": "PWnQQyYGCJU5"
      }
    },
    {
      "cell_type": "markdown",
      "source": [
        "**1. Build a covariance matrix with X1 and X2,  do a PCA decomposition.**\n",
        "\n"
      ],
      "metadata": {
        "id": "lzY6rNQG5PNo"
      }
    },
    {
      "cell_type": "code",
      "source": [
        "from sklearn.decomposition import PCA\n",
        "# Calculate the covariance matrix of the DataFrame\n",
        "df = df[['Microsoft', 'Nvidia']]\n",
        "cov_matrix = df.cov()\n",
        "print(\"Covariance Matrix:\\n\", cov_matrix)\n",
        "\n",
        "print('\\n')\n",
        "# Perform PCA decomposition\n",
        "pca = PCA(n_components=2)  # n_components specifies the number of components to keep\n",
        "pca.fit(df)\n",
        "\n",
        "# The components_ attribute represents the principal axes in feature space\n",
        "components = pca.components_\n",
        "print(\"PCA Components:\\n\", components)"
      ],
      "metadata": {
        "colab": {
          "base_uri": "https://localhost:8080/"
        },
        "id": "Ix7Jgpxa4c0f",
        "outputId": "9cde155e-f464-42bc-9943-1364a8c68f72"
      },
      "execution_count": 19,
      "outputs": [
        {
          "output_type": "stream",
          "name": "stdout",
          "text": [
            "Covariance Matrix:\n",
            "              Microsoft        Nvidia\n",
            "Microsoft   980.744125   2769.506478\n",
            "Nvidia     2769.506478  11006.690295\n",
            "\n",
            "\n",
            "PCA Components:\n",
            " [[ 0.24969762  0.96832386]\n",
            " [-0.96832386  0.24969762]]\n"
          ]
        }
      ]
    },
    {
      "cell_type": "markdown",
      "source": [
        "**2. Verify your two eigenvectors produce two new predictors that are independent**"
      ],
      "metadata": {
        "id": "oAbbpWYL5xXS"
      }
    },
    {
      "cell_type": "code",
      "source": [
        "# If the two new predictors are independent their dot product will be zero\n",
        "np.dot(components[0], components[1])\n",
        "\n",
        "#verified"
      ],
      "metadata": {
        "colab": {
          "base_uri": "https://localhost:8080/"
        },
        "id": "IQ1xAVDf5xtZ",
        "outputId": "8318528a-b0da-438d-89bd-752fddc83d5c"
      },
      "execution_count": 20,
      "outputs": [
        {
          "output_type": "execute_result",
          "data": {
            "text/plain": [
              "0.0"
            ]
          },
          "metadata": {},
          "execution_count": 20
        }
      ]
    },
    {
      "cell_type": "markdown",
      "source": [
        "**3. Verify that your two factor regression can be built by combining two 1-factor regressions with your two eigenvectors**"
      ],
      "metadata": {
        "id": "5jYkC74R51v-"
      }
    },
    {
      "cell_type": "code",
      "source": [
        "# model with both pca components\n",
        "X = pca.fit_transform(df)\n",
        "\n",
        "model = LinearRegression()\n",
        "\n",
        "# Train the model\n",
        "model.fit(X, Y)\n",
        "predictions = model.predict(X)\n",
        "\n",
        "print(\"Coefficient:\", model.coef_)\n",
        "print(\"Intercept:\", model.intercept_)"
      ],
      "metadata": {
        "colab": {
          "base_uri": "https://localhost:8080/"
        },
        "id": "cB5FuaEL7mxk",
        "outputId": "717278d4-91ae-4c75-a839-cf7ca262fbc5"
      },
      "execution_count": 21,
      "outputs": [
        {
          "output_type": "stream",
          "name": "stdout",
          "text": [
            "Coefficient: [ 2.22549611 -4.29250739]\n",
            "Intercept: 4601.650244928175\n"
          ]
        }
      ]
    },
    {
      "cell_type": "code",
      "source": [
        "# model with only 1st pca component\n",
        "model = LinearRegression()\n",
        "\n",
        "# Train the model\n",
        "model.fit(X[:, 0].reshape(-1, 1), Y)\n",
        "\n",
        "print(\"Coefficient:\", model.coef_)\n",
        "print(\"Intercept:\", model.intercept_)\n"
      ],
      "metadata": {
        "colab": {
          "base_uri": "https://localhost:8080/"
        },
        "id": "DoGCo6HS8e1H",
        "outputId": "6bdbeda9-e4dc-4191-afa3-55a9492c8e20"
      },
      "execution_count": 22,
      "outputs": [
        {
          "output_type": "stream",
          "name": "stdout",
          "text": [
            "Coefficient: [2.22549611]\n",
            "Intercept: 4601.650244928175\n"
          ]
        }
      ]
    },
    {
      "cell_type": "code",
      "source": [
        "# model with only 2nd pca component\n",
        "model = LinearRegression()\n",
        "\n",
        "# Train the model\n",
        "model.fit(X[:, 1].reshape(-1, 1), Y)\n",
        "\n",
        "print(\"Coefficient:\", model.coef_)\n",
        "print(\"Intercept:\", model.intercept_)"
      ],
      "metadata": {
        "colab": {
          "base_uri": "https://localhost:8080/"
        },
        "id": "JrhajeVa8qiV",
        "outputId": "985f47de-7ef7-4d3e-e464-1aa17fa24a43"
      },
      "execution_count": 23,
      "outputs": [
        {
          "output_type": "stream",
          "name": "stdout",
          "text": [
            "Coefficient: [-4.29250739]\n",
            "Intercept: 4601.650244928175\n"
          ]
        }
      ]
    },
    {
      "cell_type": "markdown",
      "source": [
        "As we can see, the coefficient for 1st pca component is same in both model with 2 components and model with only 1st component. Similar is the case for coefficient of 2nd component. Hence it is verified that 2 factor regression can be built by combining two 1 factor regressions with two eigen vectors."
      ],
      "metadata": {
        "id": "dty-Zddf9YXn"
      }
    },
    {
      "cell_type": "code",
      "source": [
        "# verified"
      ],
      "metadata": {
        "id": "YgBVdlCI9V_I"
      },
      "execution_count": 24,
      "outputs": []
    },
    {
      "cell_type": "code",
      "source": [],
      "metadata": {
        "id": "b10Uida3-SBJ"
      },
      "execution_count": 24,
      "outputs": []
    }
  ]
}
